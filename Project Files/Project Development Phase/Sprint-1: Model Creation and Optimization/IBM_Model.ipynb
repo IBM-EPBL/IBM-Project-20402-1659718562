{
  "metadata": {
    "kernelspec": {
      "language": "python",
      "display_name": "Python 3",
      "name": "python3"
    },
    "language_info": {
      "name": "python",
      "version": "3.7.10",
      "mimetype": "text/x-python",
      "codemirror_mode": {
        "name": "ipython",
        "version": 3
      },
      "pygments_lexer": "ipython3",
      "nbconvert_exporter": "python",
      "file_extension": ".py"
    },
    "colab": {
      "provenance": []
    }
  },
  "nbformat_minor": 0,
  "nbformat": 4,
  "cells": [
    {
      "cell_type": "code",
      "source": [
        "import numpy as np\n",
        "import pandas as pd\n",
        "\n",
        "from sklearn.preprocessing import MinMaxScaler\n",
        "from sklearn.model_selection import train_test_split\n",
        "\n",
        "from sklearn.neighbors import KNeighborsClassifier\n",
        "from sklearn.tree import DecisionTreeClassifier\n",
        "from sklearn.ensemble import RandomForestClassifier\n",
        "from xgboost import XGBClassifier\n",
        "from sklearn.ensemble import VotingClassifier\n",
        "\n",
        "from sklearn.model_selection import GridSearchCV\n",
        "\n",
        "import pickle"
      ],
      "metadata": {
        "id": "0tAGJPoeKrfI",
        "execution": {
          "iopub.status.busy": "2022-03-08T02:28:35.419717Z",
          "iopub.execute_input": "2022-03-08T02:28:35.420087Z",
          "iopub.status.idle": "2022-03-08T02:28:36.954209Z",
          "shell.execute_reply.started": "2022-03-08T02:28:35.419989Z",
          "shell.execute_reply": "2022-03-08T02:28:36.953237Z"
        },
        "trusted": true
      },
      "execution_count": 20,
      "outputs": []
    },
    {
      "cell_type": "code",
      "source": [
        "df = pd.read_csv(\"loan_prediction.csv\")\n",
        "df.head()"
      ],
      "metadata": {
        "id": "-9VxuECvXJIR",
        "outputId": "03396f30-6e61-4313-c4e5-6cb7713b7821",
        "execution": {
          "iopub.status.busy": "2022-03-08T02:28:36.956629Z",
          "iopub.execute_input": "2022-03-08T02:28:36.957588Z",
          "iopub.status.idle": "2022-03-08T02:28:37.002723Z",
          "shell.execute_reply.started": "2022-03-08T02:28:36.957530Z",
          "shell.execute_reply": "2022-03-08T02:28:37.001806Z"
        },
        "trusted": true,
        "colab": {
          "base_uri": "https://localhost:8080/",
          "height": 206
        }
      },
      "execution_count": 2,
      "outputs": [
        {
          "output_type": "execute_result",
          "data": {
            "text/plain": [
              "    Loan_ID Gender Married Dependents     Education Self_Employed  \\\n",
              "0  LP001002   Male      No          0      Graduate            No   \n",
              "1  LP001003   Male     Yes          1      Graduate            No   \n",
              "2  LP001005   Male     Yes          0      Graduate           Yes   \n",
              "3  LP001006   Male     Yes          0  Not Graduate            No   \n",
              "4  LP001008   Male      No          0      Graduate            No   \n",
              "\n",
              "   ApplicantIncome  CoapplicantIncome  LoanAmount  Loan_Amount_Term  \\\n",
              "0             5849                0.0         NaN             360.0   \n",
              "1             4583             1508.0       128.0             360.0   \n",
              "2             3000                0.0        66.0             360.0   \n",
              "3             2583             2358.0       120.0             360.0   \n",
              "4             6000                0.0       141.0             360.0   \n",
              "\n",
              "   Credit_History Property_Area Loan_Status  \n",
              "0             1.0         Urban           Y  \n",
              "1             1.0         Rural           N  \n",
              "2             1.0         Urban           Y  \n",
              "3             1.0         Urban           Y  \n",
              "4             1.0         Urban           Y  "
            ],
            "text/html": [
              "\n",
              "  <div id=\"df-632971ed-7107-45b0-ba54-074632b34bd1\">\n",
              "    <div class=\"colab-df-container\">\n",
              "      <div>\n",
              "<style scoped>\n",
              "    .dataframe tbody tr th:only-of-type {\n",
              "        vertical-align: middle;\n",
              "    }\n",
              "\n",
              "    .dataframe tbody tr th {\n",
              "        vertical-align: top;\n",
              "    }\n",
              "\n",
              "    .dataframe thead th {\n",
              "        text-align: right;\n",
              "    }\n",
              "</style>\n",
              "<table border=\"1\" class=\"dataframe\">\n",
              "  <thead>\n",
              "    <tr style=\"text-align: right;\">\n",
              "      <th></th>\n",
              "      <th>Loan_ID</th>\n",
              "      <th>Gender</th>\n",
              "      <th>Married</th>\n",
              "      <th>Dependents</th>\n",
              "      <th>Education</th>\n",
              "      <th>Self_Employed</th>\n",
              "      <th>ApplicantIncome</th>\n",
              "      <th>CoapplicantIncome</th>\n",
              "      <th>LoanAmount</th>\n",
              "      <th>Loan_Amount_Term</th>\n",
              "      <th>Credit_History</th>\n",
              "      <th>Property_Area</th>\n",
              "      <th>Loan_Status</th>\n",
              "    </tr>\n",
              "  </thead>\n",
              "  <tbody>\n",
              "    <tr>\n",
              "      <th>0</th>\n",
              "      <td>LP001002</td>\n",
              "      <td>Male</td>\n",
              "      <td>No</td>\n",
              "      <td>0</td>\n",
              "      <td>Graduate</td>\n",
              "      <td>No</td>\n",
              "      <td>5849</td>\n",
              "      <td>0.0</td>\n",
              "      <td>NaN</td>\n",
              "      <td>360.0</td>\n",
              "      <td>1.0</td>\n",
              "      <td>Urban</td>\n",
              "      <td>Y</td>\n",
              "    </tr>\n",
              "    <tr>\n",
              "      <th>1</th>\n",
              "      <td>LP001003</td>\n",
              "      <td>Male</td>\n",
              "      <td>Yes</td>\n",
              "      <td>1</td>\n",
              "      <td>Graduate</td>\n",
              "      <td>No</td>\n",
              "      <td>4583</td>\n",
              "      <td>1508.0</td>\n",
              "      <td>128.0</td>\n",
              "      <td>360.0</td>\n",
              "      <td>1.0</td>\n",
              "      <td>Rural</td>\n",
              "      <td>N</td>\n",
              "    </tr>\n",
              "    <tr>\n",
              "      <th>2</th>\n",
              "      <td>LP001005</td>\n",
              "      <td>Male</td>\n",
              "      <td>Yes</td>\n",
              "      <td>0</td>\n",
              "      <td>Graduate</td>\n",
              "      <td>Yes</td>\n",
              "      <td>3000</td>\n",
              "      <td>0.0</td>\n",
              "      <td>66.0</td>\n",
              "      <td>360.0</td>\n",
              "      <td>1.0</td>\n",
              "      <td>Urban</td>\n",
              "      <td>Y</td>\n",
              "    </tr>\n",
              "    <tr>\n",
              "      <th>3</th>\n",
              "      <td>LP001006</td>\n",
              "      <td>Male</td>\n",
              "      <td>Yes</td>\n",
              "      <td>0</td>\n",
              "      <td>Not Graduate</td>\n",
              "      <td>No</td>\n",
              "      <td>2583</td>\n",
              "      <td>2358.0</td>\n",
              "      <td>120.0</td>\n",
              "      <td>360.0</td>\n",
              "      <td>1.0</td>\n",
              "      <td>Urban</td>\n",
              "      <td>Y</td>\n",
              "    </tr>\n",
              "    <tr>\n",
              "      <th>4</th>\n",
              "      <td>LP001008</td>\n",
              "      <td>Male</td>\n",
              "      <td>No</td>\n",
              "      <td>0</td>\n",
              "      <td>Graduate</td>\n",
              "      <td>No</td>\n",
              "      <td>6000</td>\n",
              "      <td>0.0</td>\n",
              "      <td>141.0</td>\n",
              "      <td>360.0</td>\n",
              "      <td>1.0</td>\n",
              "      <td>Urban</td>\n",
              "      <td>Y</td>\n",
              "    </tr>\n",
              "  </tbody>\n",
              "</table>\n",
              "</div>\n",
              "      <button class=\"colab-df-convert\" onclick=\"convertToInteractive('df-632971ed-7107-45b0-ba54-074632b34bd1')\"\n",
              "              title=\"Convert this dataframe to an interactive table.\"\n",
              "              style=\"display:none;\">\n",
              "        \n",
              "  <svg xmlns=\"http://www.w3.org/2000/svg\" height=\"24px\"viewBox=\"0 0 24 24\"\n",
              "       width=\"24px\">\n",
              "    <path d=\"M0 0h24v24H0V0z\" fill=\"none\"/>\n",
              "    <path d=\"M18.56 5.44l.94 2.06.94-2.06 2.06-.94-2.06-.94-.94-2.06-.94 2.06-2.06.94zm-11 1L8.5 8.5l.94-2.06 2.06-.94-2.06-.94L8.5 2.5l-.94 2.06-2.06.94zm10 10l.94 2.06.94-2.06 2.06-.94-2.06-.94-.94-2.06-.94 2.06-2.06.94z\"/><path d=\"M17.41 7.96l-1.37-1.37c-.4-.4-.92-.59-1.43-.59-.52 0-1.04.2-1.43.59L10.3 9.45l-7.72 7.72c-.78.78-.78 2.05 0 2.83L4 21.41c.39.39.9.59 1.41.59.51 0 1.02-.2 1.41-.59l7.78-7.78 2.81-2.81c.8-.78.8-2.07 0-2.86zM5.41 20L4 18.59l7.72-7.72 1.47 1.35L5.41 20z\"/>\n",
              "  </svg>\n",
              "      </button>\n",
              "      \n",
              "  <style>\n",
              "    .colab-df-container {\n",
              "      display:flex;\n",
              "      flex-wrap:wrap;\n",
              "      gap: 12px;\n",
              "    }\n",
              "\n",
              "    .colab-df-convert {\n",
              "      background-color: #E8F0FE;\n",
              "      border: none;\n",
              "      border-radius: 50%;\n",
              "      cursor: pointer;\n",
              "      display: none;\n",
              "      fill: #1967D2;\n",
              "      height: 32px;\n",
              "      padding: 0 0 0 0;\n",
              "      width: 32px;\n",
              "    }\n",
              "\n",
              "    .colab-df-convert:hover {\n",
              "      background-color: #E2EBFA;\n",
              "      box-shadow: 0px 1px 2px rgba(60, 64, 67, 0.3), 0px 1px 3px 1px rgba(60, 64, 67, 0.15);\n",
              "      fill: #174EA6;\n",
              "    }\n",
              "\n",
              "    [theme=dark] .colab-df-convert {\n",
              "      background-color: #3B4455;\n",
              "      fill: #D2E3FC;\n",
              "    }\n",
              "\n",
              "    [theme=dark] .colab-df-convert:hover {\n",
              "      background-color: #434B5C;\n",
              "      box-shadow: 0px 1px 3px 1px rgba(0, 0, 0, 0.15);\n",
              "      filter: drop-shadow(0px 1px 2px rgba(0, 0, 0, 0.3));\n",
              "      fill: #FFFFFF;\n",
              "    }\n",
              "  </style>\n",
              "\n",
              "      <script>\n",
              "        const buttonEl =\n",
              "          document.querySelector('#df-632971ed-7107-45b0-ba54-074632b34bd1 button.colab-df-convert');\n",
              "        buttonEl.style.display =\n",
              "          google.colab.kernel.accessAllowed ? 'block' : 'none';\n",
              "\n",
              "        async function convertToInteractive(key) {\n",
              "          const element = document.querySelector('#df-632971ed-7107-45b0-ba54-074632b34bd1');\n",
              "          const dataTable =\n",
              "            await google.colab.kernel.invokeFunction('convertToInteractive',\n",
              "                                                     [key], {});\n",
              "          if (!dataTable) return;\n",
              "\n",
              "          const docLinkHtml = 'Like what you see? Visit the ' +\n",
              "            '<a target=\"_blank\" href=https://colab.research.google.com/notebooks/data_table.ipynb>data table notebook</a>'\n",
              "            + ' to learn more about interactive tables.';\n",
              "          element.innerHTML = '';\n",
              "          dataTable['output_type'] = 'display_data';\n",
              "          await google.colab.output.renderOutput(dataTable, element);\n",
              "          const docLink = document.createElement('div');\n",
              "          docLink.innerHTML = docLinkHtml;\n",
              "          element.appendChild(docLink);\n",
              "        }\n",
              "      </script>\n",
              "    </div>\n",
              "  </div>\n",
              "  "
            ]
          },
          "metadata": {},
          "execution_count": 2
        }
      ]
    },
    {
      "cell_type": "code",
      "source": [
        "print(df.shape)"
      ],
      "metadata": {
        "id": "QLUH-tNjh1b8",
        "outputId": "d74350dd-33f8-4ed7-de54-45e07ec66ce4",
        "execution": {
          "iopub.status.busy": "2022-03-08T02:28:37.003870Z",
          "iopub.execute_input": "2022-03-08T02:28:37.004250Z",
          "iopub.status.idle": "2022-03-08T02:28:37.009217Z",
          "shell.execute_reply.started": "2022-03-08T02:28:37.004206Z",
          "shell.execute_reply": "2022-03-08T02:28:37.008333Z"
        },
        "trusted": true,
        "colab": {
          "base_uri": "https://localhost:8080/"
        }
      },
      "execution_count": 3,
      "outputs": [
        {
          "output_type": "stream",
          "name": "stdout",
          "text": [
            "(614, 13)\n"
          ]
        }
      ]
    },
    {
      "cell_type": "code",
      "source": [
        "df = df.drop(['Loan_ID'], axis = 1)"
      ],
      "metadata": {
        "id": "w255orBlXxSC",
        "execution": {
          "iopub.status.busy": "2022-03-08T02:28:44.079771Z",
          "iopub.execute_input": "2022-03-08T02:28:44.080450Z",
          "iopub.status.idle": "2022-03-08T02:28:44.089968Z",
          "shell.execute_reply.started": "2022-03-08T02:28:44.080387Z",
          "shell.execute_reply": "2022-03-08T02:28:44.088803Z"
        },
        "trusted": true
      },
      "execution_count": 4,
      "outputs": []
    },
    {
      "cell_type": "code",
      "source": [
        "df['Gender'].fillna(df['Gender'].mode()[0],inplace=True)\n",
        "df['Married'].fillna(df['Married'].mode()[0],inplace=True)\n",
        "df['Dependents'].fillna(df['Dependents'].mode()[0],inplace=True)\n",
        "df['Self_Employed'].fillna(df['Self_Employed'].mode()[0],inplace=True)\n",
        "df['Credit_History'].fillna(df['Credit_History'].mode()[0],inplace=True)\n",
        "df['Loan_Amount_Term'].fillna(df['Loan_Amount_Term'].mode()[0],inplace=True)"
      ],
      "metadata": {
        "id": "1Dna_U33V09a",
        "execution": {
          "iopub.status.busy": "2022-03-08T02:28:44.091450Z",
          "iopub.execute_input": "2022-03-08T02:28:44.092049Z",
          "iopub.status.idle": "2022-03-08T02:28:44.107656Z",
          "shell.execute_reply.started": "2022-03-08T02:28:44.091906Z",
          "shell.execute_reply": "2022-03-08T02:28:44.106250Z"
        },
        "trusted": true
      },
      "execution_count": 5,
      "outputs": []
    },
    {
      "cell_type": "code",
      "source": [
        "df['LoanAmount'].fillna(df['LoanAmount'].mean(),inplace=True)"
      ],
      "metadata": {
        "id": "OayJ893bG665",
        "execution": {
          "iopub.status.busy": "2022-03-08T02:28:44.109095Z",
          "iopub.execute_input": "2022-03-08T02:28:44.109628Z",
          "iopub.status.idle": "2022-03-08T02:28:44.122222Z",
          "shell.execute_reply.started": "2022-03-08T02:28:44.109587Z",
          "shell.execute_reply": "2022-03-08T02:28:44.120866Z"
        },
        "trusted": true
      },
      "execution_count": 6,
      "outputs": []
    },
    {
      "cell_type": "code",
      "source": [
        "df = pd.get_dummies(df)\n",
        "\n",
        "# Drop columns\n",
        "df = df.drop(['Gender_Female', 'Married_No', 'Education_Not Graduate', \n",
        "              'Self_Employed_No', 'Loan_Status_N'], axis = 1)\n",
        "\n",
        "# Rename columns name\n",
        "new = {'Gender_Male': 'Gender', 'Married_Yes': 'Married', \n",
        "       'Education_Graduate': 'Education', 'Self_Employed_Yes': 'Self_Employed',\n",
        "       'Loan_Status_Y': 'Loan_Status'}\n",
        "       \n",
        "df.rename(columns=new, inplace=True)"
      ],
      "metadata": {
        "id": "JPrZD3MHLBJO",
        "execution": {
          "iopub.status.busy": "2022-03-08T02:28:44.123834Z",
          "iopub.execute_input": "2022-03-08T02:28:44.124643Z",
          "iopub.status.idle": "2022-03-08T02:28:44.147410Z",
          "shell.execute_reply.started": "2022-03-08T02:28:44.124603Z",
          "shell.execute_reply": "2022-03-08T02:28:44.146216Z"
        },
        "trusted": true
      },
      "execution_count": 7,
      "outputs": []
    },
    {
      "cell_type": "code",
      "source": [
        "Q1 = df.quantile(0.25)\n",
        "Q3 = df.quantile(0.75)\n",
        "IQR = Q3 - Q1\n",
        "\n",
        "df = df[~((df < (Q1 - 1.5 * IQR)) |(df > (Q3 + 1.5 * IQR))).any(axis=1)]"
      ],
      "metadata": {
        "id": "7xXzLUK4kHsf",
        "execution": {
          "iopub.status.busy": "2022-03-08T02:28:44.148939Z",
          "iopub.execute_input": "2022-03-08T02:28:44.149217Z",
          "iopub.status.idle": "2022-03-08T02:28:44.165845Z",
          "shell.execute_reply.started": "2022-03-08T02:28:44.149184Z",
          "shell.execute_reply": "2022-03-08T02:28:44.164707Z"
        },
        "trusted": true
      },
      "execution_count": 8,
      "outputs": []
    },
    {
      "cell_type": "code",
      "source": [
        "X = df.drop([\"Loan_Status\"], axis=1)\n",
        "y = df[\"Loan_Status\"]"
      ],
      "metadata": {
        "id": "sJJVP_kPhZh1",
        "execution": {
          "iopub.status.busy": "2022-03-08T02:28:45.110940Z",
          "iopub.execute_input": "2022-03-08T02:28:45.111209Z",
          "iopub.status.idle": "2022-03-08T02:28:45.117839Z",
          "shell.execute_reply.started": "2022-03-08T02:28:45.111179Z",
          "shell.execute_reply": "2022-03-08T02:28:45.116948Z"
        },
        "trusted": true
      },
      "execution_count": 10,
      "outputs": []
    },
    {
      "cell_type": "code",
      "source": [
        "X = MinMaxScaler().fit_transform(X)"
      ],
      "metadata": {
        "id": "WmA2qj9y0Yqo",
        "execution": {
          "iopub.status.busy": "2022-03-08T02:28:45.365698Z",
          "iopub.execute_input": "2022-03-08T02:28:45.366079Z",
          "iopub.status.idle": "2022-03-08T02:28:45.374013Z",
          "shell.execute_reply.started": "2022-03-08T02:28:45.366029Z",
          "shell.execute_reply": "2022-03-08T02:28:45.373349Z"
        },
        "trusted": true
      },
      "execution_count": 11,
      "outputs": []
    },
    {
      "cell_type": "code",
      "source": [
        "X_train, X_test, y_train, y_test = train_test_split(X, y, test_size = 0.25, random_state = 0)"
      ],
      "metadata": {
        "id": "sfenUwlr3c2Y",
        "execution": {
          "iopub.status.busy": "2022-03-08T02:28:45.375256Z",
          "iopub.execute_input": "2022-03-08T02:28:45.375483Z",
          "iopub.status.idle": "2022-03-08T02:28:45.388807Z",
          "shell.execute_reply.started": "2022-03-08T02:28:45.375455Z",
          "shell.execute_reply": "2022-03-08T02:28:45.387927Z"
        },
        "trusted": true
      },
      "execution_count": 12,
      "outputs": []
    },
    {
      "cell_type": "code",
      "source": [
        "knn = KNeighborsClassifier()\n",
        "params_knn = {'n_neighbors': np.arange(1, 25)}\n",
        "knn_gs = GridSearchCV(knn, params_knn, cv=5)\n",
        "knn_gs.fit(X_train, y_train)\n",
        "knn_best = knn_gs.best_estimator_"
      ],
      "metadata": {
        "id": "1c77uWXR5bwM",
        "execution": {
          "iopub.status.busy": "2022-03-08T02:28:45.412265Z",
          "iopub.execute_input": "2022-03-08T02:28:45.412650Z",
          "iopub.status.idle": "2022-03-08T02:28:45.798624Z",
          "shell.execute_reply.started": "2022-03-08T02:28:45.412618Z",
          "shell.execute_reply": "2022-03-08T02:28:45.797526Z"
        },
        "trusted": true
      },
      "execution_count": 13,
      "outputs": []
    },
    {
      "cell_type": "code",
      "source": [
        "dt = DecisionTreeClassifier()\n",
        "params_dt = {'max_leaf_nodes': np.arange(2,20)}\n",
        "dt_gs = GridSearchCV(dt, params_dt, cv=5)\n",
        "dt_gs.fit(X_train, y_train)\n",
        "dt_best = dt_gs.best_estimator_"
      ],
      "metadata": {
        "id": "twABLtSw9icG",
        "execution": {
          "iopub.status.busy": "2022-03-08T02:28:45.860068Z",
          "iopub.execute_input": "2022-03-08T02:28:45.860894Z",
          "iopub.status.idle": "2022-03-08T02:28:46.411716Z",
          "shell.execute_reply.started": "2022-03-08T02:28:45.860842Z",
          "shell.execute_reply": "2022-03-08T02:28:46.410654Z"
        },
        "trusted": true
      },
      "execution_count": 14,
      "outputs": []
    },
    {
      "cell_type": "code",
      "source": [
        "rf = RandomForestClassifier()\n",
        "params_rf = {'n_estimators': [50, 100, 200]}\n",
        "rf_gs = GridSearchCV(rf, params_rf, cv=5)\n",
        "rf_gs.fit(X_train, y_train)\n",
        "rf_best = rf_gs.best_estimator_"
      ],
      "metadata": {
        "id": "TnLwqYnP9pD7",
        "execution": {
          "iopub.status.busy": "2022-03-08T02:28:46.412985Z",
          "iopub.execute_input": "2022-03-08T02:28:46.413245Z",
          "iopub.status.idle": "2022-03-08T02:29:19.705356Z",
          "shell.execute_reply.started": "2022-03-08T02:28:46.413213Z",
          "shell.execute_reply": "2022-03-08T02:29:19.704417Z"
        },
        "trusted": true
      },
      "execution_count": 15,
      "outputs": []
    },
    {
      "cell_type": "code",
      "source": [
        "xg = XGBClassifier()\n",
        "params_xg = {'max_depth': np.arange(2,10)}\n",
        "xg_gs = GridSearchCV(xg, params_xg, cv=5)\n",
        "xg_gs.fit(X_train, y_train)\n",
        "xg_best = xg_gs.best_estimator_"
      ],
      "metadata": {
        "id": "padjrkLDz6yu"
      },
      "execution_count": 16,
      "outputs": []
    },
    {
      "cell_type": "code",
      "source": [
        "estimators=[('knn', knn_best), ('rf', rf_best), ('dt', dt_best), ('xg', xg_best)]\n",
        "\n",
        "ensemble = VotingClassifier(estimators, voting='hard')\n",
        "ensemble.fit(X_train, y_train)"
      ],
      "metadata": {
        "colab": {
          "base_uri": "https://localhost:8080/"
        },
        "id": "FCz1KXb15aVg",
        "outputId": "b06f8ac5-1376-4d8e-eb5a-bc3f6b31123f"
      },
      "execution_count": 17,
      "outputs": [
        {
          "output_type": "execute_result",
          "data": {
            "text/plain": [
              "VotingClassifier(estimators=[('knn', KNeighborsClassifier(n_neighbors=11)),\n",
              "                             ('rf', RandomForestClassifier(n_estimators=50)),\n",
              "                             ('dt', DecisionTreeClassifier(max_leaf_nodes=5)),\n",
              "                             ('xg', XGBClassifier(max_depth=2))])"
            ]
          },
          "metadata": {},
          "execution_count": 17
        }
      ]
    },
    {
      "cell_type": "code",
      "source": [
        "ensemble.score(X_test, y_test)"
      ],
      "metadata": {
        "id": "SGzOLxRMArx0",
        "outputId": "3faeaf84-2c16-4b80-f647-eef275e0581f",
        "execution": {
          "iopub.status.busy": "2022-03-08T02:29:59.169277Z",
          "iopub.execute_input": "2022-03-08T02:29:59.169877Z",
          "iopub.status.idle": "2022-03-08T02:29:59.184409Z",
          "shell.execute_reply.started": "2022-03-08T02:29:59.169833Z",
          "shell.execute_reply": "2022-03-08T02:29:59.183302Z"
        },
        "trusted": true,
        "colab": {
          "base_uri": "https://localhost:8080/"
        }
      },
      "execution_count": 18,
      "outputs": [
        {
          "output_type": "execute_result",
          "data": {
            "text/plain": [
              "0.8529411764705882"
            ]
          },
          "metadata": {},
          "execution_count": 18
        }
      ]
    },
    {
      "cell_type": "code",
      "source": [
        "filename=\"model.pkl\"\n",
        "pickle.dump(ensemble,open(filename,'wb'))"
      ],
      "metadata": {
        "id": "iqm42GJn7RFR"
      },
      "execution_count": 21,
      "outputs": []
    },
    {
      "cell_type": "code",
      "source": [
        "loaded_model = pickle.load(open(filename, 'rb'))\n",
        "result = loaded_model.score(X_test, y_test)\n",
        "print(result)"
      ],
      "metadata": {
        "colab": {
          "base_uri": "https://localhost:8080/"
        },
        "id": "Cdz5w8_N-vPD",
        "outputId": "59679adf-3fad-404d-e3b6-06e9dfb62352"
      },
      "execution_count": 23,
      "outputs": [
        {
          "output_type": "stream",
          "name": "stdout",
          "text": [
            "0.8529411764705882\n"
          ]
        }
      ]
    },
    {
      "cell_type": "code",
      "source": [
        "from google.colab import drive\n",
        "drive.mount('/content/drive')"
      ],
      "metadata": {
        "id": "wECh--7q-1dd"
      },
      "execution_count": null,
      "outputs": []
    }
  ]
}